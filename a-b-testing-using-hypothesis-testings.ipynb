{
 "cells": [
  {
   "cell_type": "markdown",
   "id": "3e050d18",
   "metadata": {
    "papermill": {
     "duration": 0.010748,
     "end_time": "2024-09-24T09:23:37.564856",
     "exception": false,
     "start_time": "2024-09-24T09:23:37.554108",
     "status": "completed"
    },
    "tags": []
   },
   "source": [
    "<center><h1><b>A/B Testing</b></h1></center>\n",
    "                            "
   ]
  },
  {
   "cell_type": "markdown",
   "id": "556ee055",
   "metadata": {
    "papermill": {
     "duration": 0.009678,
     "end_time": "2024-09-24T09:23:37.584550",
     "exception": false,
     "start_time": "2024-09-24T09:23:37.574872",
     "status": "completed"
    },
    "tags": []
   },
   "source": [
    "![Alt Text](https://upload.wikimedia.org/wikipedia/commons/2/2e/A-B_testing_example.png)\n"
   ]
  },
  {
   "cell_type": "markdown",
   "id": "0dcd9dc0",
   "metadata": {
    "papermill": {
     "duration": 0.010657,
     "end_time": "2024-09-24T09:23:37.605128",
     "exception": false,
     "start_time": "2024-09-24T09:23:37.594471",
     "status": "completed"
    },
    "tags": []
   },
   "source": [
    "###### Image source - Wikepedia\n",
    "\n"
   ]
  },
  {
   "cell_type": "markdown",
   "id": "f63e86f7",
   "metadata": {
    "papermill": {
     "duration": 0.009737,
     "end_time": "2024-09-24T09:23:37.624907",
     "exception": false,
     "start_time": "2024-09-24T09:23:37.615170",
     "status": "completed"
    },
    "tags": []
   },
   "source": [
    "**A/B tests are hypothesis tests that help us compare two different versions of the same thing to test whether the latest version has any improved performance.**  \n",
    "\n",
    "**This code demonstration is to check if a change in the marketing strategy of a website improved in website's performance in terms of reaching the audience and converting them to valuable users.**"
   ]
  },
  {
   "cell_type": "markdown",
   "id": "b3ccd563",
   "metadata": {
    "papermill": {
     "duration": 0.009584,
     "end_time": "2024-09-24T09:23:37.644422",
     "exception": false,
     "start_time": "2024-09-24T09:23:37.634838",
     "status": "completed"
    },
    "tags": []
   },
   "source": [
    "**In this example, we first do some basic analysis through EDA on the different features of the data and then create necessary features, and then perform some statistical tests to validate our hypothesis to see if there are any differences made by the new marketing Campaign.**    \n",
    "**Then we will validate the results to extract the helpful insights and then conclude based on our learnings.**"
   ]
  },
  {
   "cell_type": "markdown",
   "id": "e62037a3",
   "metadata": {
    "jp-MarkdownHeadingCollapsed": true,
    "papermill": {
     "duration": 0.009848,
     "end_time": "2024-09-24T09:23:37.664129",
     "exception": false,
     "start_time": "2024-09-24T09:23:37.654281",
     "status": "completed"
    },
    "tags": []
   },
   "source": [
    "## Loading required libraries and data"
   ]
  },
  {
   "cell_type": "code",
   "execution_count": 1,
   "id": "c089e1a8",
   "metadata": {
    "execution": {
     "iopub.execute_input": "2024-09-24T09:23:37.685637Z",
     "iopub.status.busy": "2024-09-24T09:23:37.685184Z",
     "iopub.status.idle": "2024-09-24T09:23:40.012196Z",
     "shell.execute_reply": "2024-09-24T09:23:40.011160Z"
    },
    "papermill": {
     "duration": 2.340832,
     "end_time": "2024-09-24T09:23:40.014743",
     "exception": false,
     "start_time": "2024-09-24T09:23:37.673911",
     "status": "completed"
    },
    "tags": []
   },
   "outputs": [],
   "source": [
    "import pandas as pd\n",
    "import numpy as np\n",
    "\n",
    "import seaborn as sns\n",
    "import matplotlib.pyplot as plt\n",
    "from scipy import stats\n",
    "from tabulate import tabulate\n"
   ]
  },
  {
   "cell_type": "code",
   "execution_count": 2,
   "id": "e8a0ffe5",
   "metadata": {
    "execution": {
     "iopub.execute_input": "2024-09-24T09:23:40.038162Z",
     "iopub.status.busy": "2024-09-24T09:23:40.036970Z",
     "iopub.status.idle": "2024-09-24T09:23:40.061347Z",
     "shell.execute_reply": "2024-09-24T09:23:40.060260Z"
    },
    "papermill": {
     "duration": 0.038367,
     "end_time": "2024-09-24T09:23:40.063726",
     "exception": false,
     "start_time": "2024-09-24T09:23:40.025359",
     "status": "completed"
    },
    "tags": []
   },
   "outputs": [],
   "source": [
    "\n",
    "control = pd.read_csv(\"/kaggle/input/ab-testing-dataset/control_group.csv\",delimiter=\";\")\n",
    "test = pd.read_csv(\"/kaggle/input/ab-testing-dataset/test_group.csv\",delimiter=\";\")"
   ]
  },
  {
   "cell_type": "code",
   "execution_count": 3,
   "id": "9b334e6f",
   "metadata": {
    "execution": {
     "iopub.execute_input": "2024-09-24T09:23:40.086594Z",
     "iopub.status.busy": "2024-09-24T09:23:40.085666Z",
     "iopub.status.idle": "2024-09-24T09:23:40.114128Z",
     "shell.execute_reply": "2024-09-24T09:23:40.113085Z"
    },
    "papermill": {
     "duration": 0.042333,
     "end_time": "2024-09-24T09:23:40.116330",
     "exception": false,
     "start_time": "2024-09-24T09:23:40.073997",
     "status": "completed"
    },
    "tags": []
   },
   "outputs": [
    {
     "data": {
      "text/html": [
       "<div>\n",
       "<style scoped>\n",
       "    .dataframe tbody tr th:only-of-type {\n",
       "        vertical-align: middle;\n",
       "    }\n",
       "\n",
       "    .dataframe tbody tr th {\n",
       "        vertical-align: top;\n",
       "    }\n",
       "\n",
       "    .dataframe thead th {\n",
       "        text-align: right;\n",
       "    }\n",
       "</style>\n",
       "<table border=\"1\" class=\"dataframe\">\n",
       "  <thead>\n",
       "    <tr style=\"text-align: right;\">\n",
       "      <th></th>\n",
       "      <th>Campaign Name</th>\n",
       "      <th>Date</th>\n",
       "      <th>Spend [USD]</th>\n",
       "      <th># of Impressions</th>\n",
       "      <th>Reach</th>\n",
       "      <th># of Website Clicks</th>\n",
       "      <th># of Searches</th>\n",
       "      <th># of View Content</th>\n",
       "      <th># of Add to Cart</th>\n",
       "      <th># of Purchase</th>\n",
       "    </tr>\n",
       "  </thead>\n",
       "  <tbody>\n",
       "    <tr>\n",
       "      <th>0</th>\n",
       "      <td>Control Campaign</td>\n",
       "      <td>1.08.2019</td>\n",
       "      <td>2280</td>\n",
       "      <td>82702.0</td>\n",
       "      <td>56930.0</td>\n",
       "      <td>7016.0</td>\n",
       "      <td>2290.0</td>\n",
       "      <td>2159.0</td>\n",
       "      <td>1819.0</td>\n",
       "      <td>618.0</td>\n",
       "    </tr>\n",
       "    <tr>\n",
       "      <th>1</th>\n",
       "      <td>Control Campaign</td>\n",
       "      <td>2.08.2019</td>\n",
       "      <td>1757</td>\n",
       "      <td>121040.0</td>\n",
       "      <td>102513.0</td>\n",
       "      <td>8110.0</td>\n",
       "      <td>2033.0</td>\n",
       "      <td>1841.0</td>\n",
       "      <td>1219.0</td>\n",
       "      <td>511.0</td>\n",
       "    </tr>\n",
       "    <tr>\n",
       "      <th>2</th>\n",
       "      <td>Control Campaign</td>\n",
       "      <td>3.08.2019</td>\n",
       "      <td>2343</td>\n",
       "      <td>131711.0</td>\n",
       "      <td>110862.0</td>\n",
       "      <td>6508.0</td>\n",
       "      <td>1737.0</td>\n",
       "      <td>1549.0</td>\n",
       "      <td>1134.0</td>\n",
       "      <td>372.0</td>\n",
       "    </tr>\n",
       "    <tr>\n",
       "      <th>3</th>\n",
       "      <td>Control Campaign</td>\n",
       "      <td>4.08.2019</td>\n",
       "      <td>1940</td>\n",
       "      <td>72878.0</td>\n",
       "      <td>61235.0</td>\n",
       "      <td>3065.0</td>\n",
       "      <td>1042.0</td>\n",
       "      <td>982.0</td>\n",
       "      <td>1183.0</td>\n",
       "      <td>340.0</td>\n",
       "    </tr>\n",
       "    <tr>\n",
       "      <th>4</th>\n",
       "      <td>Control Campaign</td>\n",
       "      <td>5.08.2019</td>\n",
       "      <td>1835</td>\n",
       "      <td>NaN</td>\n",
       "      <td>NaN</td>\n",
       "      <td>NaN</td>\n",
       "      <td>NaN</td>\n",
       "      <td>NaN</td>\n",
       "      <td>NaN</td>\n",
       "      <td>NaN</td>\n",
       "    </tr>\n",
       "  </tbody>\n",
       "</table>\n",
       "</div>"
      ],
      "text/plain": [
       "      Campaign Name       Date  Spend [USD]  # of Impressions     Reach  \\\n",
       "0  Control Campaign  1.08.2019         2280           82702.0   56930.0   \n",
       "1  Control Campaign  2.08.2019         1757          121040.0  102513.0   \n",
       "2  Control Campaign  3.08.2019         2343          131711.0  110862.0   \n",
       "3  Control Campaign  4.08.2019         1940           72878.0   61235.0   \n",
       "4  Control Campaign  5.08.2019         1835               NaN       NaN   \n",
       "\n",
       "   # of Website Clicks  # of Searches  # of View Content  # of Add to Cart  \\\n",
       "0               7016.0         2290.0             2159.0            1819.0   \n",
       "1               8110.0         2033.0             1841.0            1219.0   \n",
       "2               6508.0         1737.0             1549.0            1134.0   \n",
       "3               3065.0         1042.0              982.0            1183.0   \n",
       "4                  NaN            NaN                NaN               NaN   \n",
       "\n",
       "   # of Purchase  \n",
       "0          618.0  \n",
       "1          511.0  \n",
       "2          372.0  \n",
       "3          340.0  \n",
       "4            NaN  "
      ]
     },
     "execution_count": 3,
     "metadata": {},
     "output_type": "execute_result"
    }
   ],
   "source": [
    "control.head()"
   ]
  },
  {
   "cell_type": "code",
   "execution_count": 4,
   "id": "783315de",
   "metadata": {
    "execution": {
     "iopub.execute_input": "2024-09-24T09:23:40.139109Z",
     "iopub.status.busy": "2024-09-24T09:23:40.138450Z",
     "iopub.status.idle": "2024-09-24T09:23:40.151853Z",
     "shell.execute_reply": "2024-09-24T09:23:40.150822Z"
    },
    "papermill": {
     "duration": 0.027105,
     "end_time": "2024-09-24T09:23:40.154016",
     "exception": false,
     "start_time": "2024-09-24T09:23:40.126911",
     "status": "completed"
    },
    "tags": []
   },
   "outputs": [
    {
     "data": {
      "text/html": [
       "<div>\n",
       "<style scoped>\n",
       "    .dataframe tbody tr th:only-of-type {\n",
       "        vertical-align: middle;\n",
       "    }\n",
       "\n",
       "    .dataframe tbody tr th {\n",
       "        vertical-align: top;\n",
       "    }\n",
       "\n",
       "    .dataframe thead th {\n",
       "        text-align: right;\n",
       "    }\n",
       "</style>\n",
       "<table border=\"1\" class=\"dataframe\">\n",
       "  <thead>\n",
       "    <tr style=\"text-align: right;\">\n",
       "      <th></th>\n",
       "      <th>Campaign Name</th>\n",
       "      <th>Date</th>\n",
       "      <th>Spend [USD]</th>\n",
       "      <th># of Impressions</th>\n",
       "      <th>Reach</th>\n",
       "      <th># of Website Clicks</th>\n",
       "      <th># of Searches</th>\n",
       "      <th># of View Content</th>\n",
       "      <th># of Add to Cart</th>\n",
       "      <th># of Purchase</th>\n",
       "    </tr>\n",
       "  </thead>\n",
       "  <tbody>\n",
       "    <tr>\n",
       "      <th>0</th>\n",
       "      <td>Test Campaign</td>\n",
       "      <td>1.08.2019</td>\n",
       "      <td>3008</td>\n",
       "      <td>39550</td>\n",
       "      <td>35820</td>\n",
       "      <td>3038</td>\n",
       "      <td>1946</td>\n",
       "      <td>1069</td>\n",
       "      <td>894</td>\n",
       "      <td>255</td>\n",
       "    </tr>\n",
       "    <tr>\n",
       "      <th>1</th>\n",
       "      <td>Test Campaign</td>\n",
       "      <td>2.08.2019</td>\n",
       "      <td>2542</td>\n",
       "      <td>100719</td>\n",
       "      <td>91236</td>\n",
       "      <td>4657</td>\n",
       "      <td>2359</td>\n",
       "      <td>1548</td>\n",
       "      <td>879</td>\n",
       "      <td>677</td>\n",
       "    </tr>\n",
       "    <tr>\n",
       "      <th>2</th>\n",
       "      <td>Test Campaign</td>\n",
       "      <td>3.08.2019</td>\n",
       "      <td>2365</td>\n",
       "      <td>70263</td>\n",
       "      <td>45198</td>\n",
       "      <td>7885</td>\n",
       "      <td>2572</td>\n",
       "      <td>2367</td>\n",
       "      <td>1268</td>\n",
       "      <td>578</td>\n",
       "    </tr>\n",
       "    <tr>\n",
       "      <th>3</th>\n",
       "      <td>Test Campaign</td>\n",
       "      <td>4.08.2019</td>\n",
       "      <td>2710</td>\n",
       "      <td>78451</td>\n",
       "      <td>25937</td>\n",
       "      <td>4216</td>\n",
       "      <td>2216</td>\n",
       "      <td>1437</td>\n",
       "      <td>566</td>\n",
       "      <td>340</td>\n",
       "    </tr>\n",
       "    <tr>\n",
       "      <th>4</th>\n",
       "      <td>Test Campaign</td>\n",
       "      <td>5.08.2019</td>\n",
       "      <td>2297</td>\n",
       "      <td>114295</td>\n",
       "      <td>95138</td>\n",
       "      <td>5863</td>\n",
       "      <td>2106</td>\n",
       "      <td>858</td>\n",
       "      <td>956</td>\n",
       "      <td>768</td>\n",
       "    </tr>\n",
       "  </tbody>\n",
       "</table>\n",
       "</div>"
      ],
      "text/plain": [
       "   Campaign Name       Date  Spend [USD]  # of Impressions  Reach  \\\n",
       "0  Test Campaign  1.08.2019         3008             39550  35820   \n",
       "1  Test Campaign  2.08.2019         2542            100719  91236   \n",
       "2  Test Campaign  3.08.2019         2365             70263  45198   \n",
       "3  Test Campaign  4.08.2019         2710             78451  25937   \n",
       "4  Test Campaign  5.08.2019         2297            114295  95138   \n",
       "\n",
       "   # of Website Clicks  # of Searches  # of View Content  # of Add to Cart  \\\n",
       "0                 3038           1946               1069               894   \n",
       "1                 4657           2359               1548               879   \n",
       "2                 7885           2572               2367              1268   \n",
       "3                 4216           2216               1437               566   \n",
       "4                 5863           2106                858               956   \n",
       "\n",
       "   # of Purchase  \n",
       "0            255  \n",
       "1            677  \n",
       "2            578  \n",
       "3            340  \n",
       "4            768  "
      ]
     },
     "execution_count": 4,
     "metadata": {},
     "output_type": "execute_result"
    }
   ],
   "source": [
    "test.head()"
   ]
  },
  {
   "cell_type": "markdown",
   "id": "02083cc3",
   "metadata": {
    "jp-MarkdownHeadingCollapsed": true,
    "papermill": {
     "duration": 0.010123,
     "end_time": "2024-09-24T09:23:40.174745",
     "exception": false,
     "start_time": "2024-09-24T09:23:40.164622",
     "status": "completed"
    },
    "tags": []
   },
   "source": [
    "## Cleaning and processing the data"
   ]
  },
  {
   "cell_type": "code",
   "execution_count": 5,
   "id": "18f4b3a1",
   "metadata": {
    "execution": {
     "iopub.execute_input": "2024-09-24T09:23:40.197769Z",
     "iopub.status.busy": "2024-09-24T09:23:40.196799Z",
     "iopub.status.idle": "2024-09-24T09:23:40.207862Z",
     "shell.execute_reply": "2024-09-24T09:23:40.206851Z"
    },
    "papermill": {
     "duration": 0.024677,
     "end_time": "2024-09-24T09:23:40.209847",
     "exception": false,
     "start_time": "2024-09-24T09:23:40.185170",
     "status": "completed"
    },
    "tags": []
   },
   "outputs": [
    {
     "data": {
      "text/plain": [
       "Campaign Name          0\n",
       "Date                   0\n",
       "Spend [USD]            0\n",
       "# of Impressions       1\n",
       "Reach                  1\n",
       "# of Website Clicks    1\n",
       "# of Searches          1\n",
       "# of View Content      1\n",
       "# of Add to Cart       1\n",
       "# of Purchase          1\n",
       "dtype: int64"
      ]
     },
     "execution_count": 5,
     "metadata": {},
     "output_type": "execute_result"
    }
   ],
   "source": [
    "# Checking for NULL values\n",
    "\n",
    "control.isna().sum()"
   ]
  },
  {
   "cell_type": "markdown",
   "id": "8e3bf390",
   "metadata": {
    "papermill": {
     "duration": 0.010233,
     "end_time": "2024-09-24T09:23:40.230739",
     "exception": false,
     "start_time": "2024-09-24T09:23:40.220506",
     "status": "completed"
    },
    "tags": []
   },
   "source": [
    "We can fill the null values with previous days result. Here we are assuming the results remained same to the previous day where the records are empty."
   ]
  },
  {
   "cell_type": "code",
   "execution_count": 6,
   "id": "eea122df",
   "metadata": {
    "execution": {
     "iopub.execute_input": "2024-09-24T09:23:40.254057Z",
     "iopub.status.busy": "2024-09-24T09:23:40.252983Z",
     "iopub.status.idle": "2024-09-24T09:23:40.264782Z",
     "shell.execute_reply": "2024-09-24T09:23:40.263629Z"
    },
    "papermill": {
     "duration": 0.026003,
     "end_time": "2024-09-24T09:23:40.267228",
     "exception": false,
     "start_time": "2024-09-24T09:23:40.241225",
     "status": "completed"
    },
    "tags": []
   },
   "outputs": [
    {
     "name": "stderr",
     "output_type": "stream",
     "text": [
      "/tmp/ipykernel_17/1607740924.py:1: FutureWarning: DataFrame.fillna with 'method' is deprecated and will raise in a future version. Use obj.ffill() or obj.bfill() instead.\n",
      "  control = control.fillna(method=\"bfill\")\n"
     ]
    }
   ],
   "source": [
    "control = control.fillna(method=\"bfill\")"
   ]
  },
  {
   "cell_type": "code",
   "execution_count": 7,
   "id": "7adfb7f5",
   "metadata": {
    "execution": {
     "iopub.execute_input": "2024-09-24T09:23:40.290336Z",
     "iopub.status.busy": "2024-09-24T09:23:40.289918Z",
     "iopub.status.idle": "2024-09-24T09:23:40.298490Z",
     "shell.execute_reply": "2024-09-24T09:23:40.297403Z"
    },
    "papermill": {
     "duration": 0.022809,
     "end_time": "2024-09-24T09:23:40.300765",
     "exception": false,
     "start_time": "2024-09-24T09:23:40.277956",
     "status": "completed"
    },
    "tags": []
   },
   "outputs": [
    {
     "data": {
      "text/plain": [
       "Campaign Name          0\n",
       "Date                   0\n",
       "Spend [USD]            0\n",
       "# of Impressions       0\n",
       "Reach                  0\n",
       "# of Website Clicks    0\n",
       "# of Searches          0\n",
       "# of View Content      0\n",
       "# of Add to Cart       0\n",
       "# of Purchase          0\n",
       "dtype: int64"
      ]
     },
     "execution_count": 7,
     "metadata": {},
     "output_type": "execute_result"
    }
   ],
   "source": [
    "test.isna().sum()"
   ]
  },
  {
   "cell_type": "code",
   "execution_count": 8,
   "id": "c7ce0448",
   "metadata": {
    "execution": {
     "iopub.execute_input": "2024-09-24T09:23:40.324376Z",
     "iopub.status.busy": "2024-09-24T09:23:40.323983Z",
     "iopub.status.idle": "2024-09-24T09:23:40.330676Z",
     "shell.execute_reply": "2024-09-24T09:23:40.329717Z"
    },
    "papermill": {
     "duration": 0.021237,
     "end_time": "2024-09-24T09:23:40.333237",
     "exception": false,
     "start_time": "2024-09-24T09:23:40.312000",
     "status": "completed"
    },
    "tags": []
   },
   "outputs": [],
   "source": [
    "#\n",
    "## Renaming the column names for the convience\n",
    "\n",
    "\n",
    "new_names = ['Campaign Name', 'Date', 'Spend', 'Impressions', 'Reach',\n",
    "       'Website Clicks', 'Searches', 'View Content',\n",
    "       'Add to Cart', 'Purchase']\n",
    "control_columns = [x + \"_control\" if x!=\"Date\" else x for x in new_names ]\n",
    "\n",
    "columns_map = dict(zip(control.columns,control_columns))\n",
    "\n",
    "control = control.rename(columns=columns_map)"
   ]
  },
  {
   "cell_type": "code",
   "execution_count": 9,
   "id": "49cb869d",
   "metadata": {
    "execution": {
     "iopub.execute_input": "2024-09-24T09:23:40.357121Z",
     "iopub.status.busy": "2024-09-24T09:23:40.356188Z",
     "iopub.status.idle": "2024-09-24T09:23:40.362709Z",
     "shell.execute_reply": "2024-09-24T09:23:40.361753Z"
    },
    "papermill": {
     "duration": 0.020677,
     "end_time": "2024-09-24T09:23:40.364860",
     "exception": false,
     "start_time": "2024-09-24T09:23:40.344183",
     "status": "completed"
    },
    "tags": []
   },
   "outputs": [],
   "source": [
    "new_names = ['Campaign Name', 'Date', 'Spend', 'Impressions', 'Reach',\n",
    "       'Website Clicks', 'Searches', 'View Content',\n",
    "       'Add to Cart', 'Purchase']\n",
    "test_columns = [x + \"_test\" if x!=\"Date\" else x for x in new_names ]\n",
    "\n",
    "columns_map_test = dict(zip(test.columns,test_columns))\n",
    "\n",
    "test = test.rename(columns=columns_map_test)"
   ]
  },
  {
   "cell_type": "code",
   "execution_count": 10,
   "id": "3ba2878f",
   "metadata": {
    "execution": {
     "iopub.execute_input": "2024-09-24T09:23:40.388334Z",
     "iopub.status.busy": "2024-09-24T09:23:40.387596Z",
     "iopub.status.idle": "2024-09-24T09:23:40.399995Z",
     "shell.execute_reply": "2024-09-24T09:23:40.398792Z"
    },
    "papermill": {
     "duration": 0.027245,
     "end_time": "2024-09-24T09:23:40.402814",
     "exception": false,
     "start_time": "2024-09-24T09:23:40.375569",
     "status": "completed"
    },
    "tags": []
   },
   "outputs": [],
   "source": [
    "## Merging both control and test datasets into one dataframe\n",
    "\n",
    "df = control.merge(test,how=\"inner\",on=\"Date\")"
   ]
  },
  {
   "cell_type": "markdown",
   "id": "faa08b03",
   "metadata": {
    "jp-MarkdownHeadingCollapsed": true,
    "papermill": {
     "duration": 0.010714,
     "end_time": "2024-09-24T09:23:40.425051",
     "exception": false,
     "start_time": "2024-09-24T09:23:40.414337",
     "status": "completed"
    },
    "tags": []
   },
   "source": [
    "## EDA"
   ]
  },
  {
   "cell_type": "markdown",
   "id": "24a2d9ce",
   "metadata": {
    "papermill": {
     "duration": 0.010534,
     "end_time": "2024-09-24T09:23:40.446366",
     "exception": false,
     "start_time": "2024-09-24T09:23:40.435832",
     "status": "completed"
    },
    "tags": []
   },
   "source": [
    "### Impressions"
   ]
  },
  {
   "cell_type": "code",
   "execution_count": 11,
   "id": "f8148ac9",
   "metadata": {
    "execution": {
     "iopub.execute_input": "2024-09-24T09:23:40.469661Z",
     "iopub.status.busy": "2024-09-24T09:23:40.469252Z",
     "iopub.status.idle": "2024-09-24T09:23:40.754325Z",
     "shell.execute_reply": "2024-09-24T09:23:40.753201Z"
    },
    "papermill": {
     "duration": 0.299291,
     "end_time": "2024-09-24T09:23:40.756485",
     "exception": false,
     "start_time": "2024-09-24T09:23:40.457194",
     "status": "completed"
    },
    "tags": []
   },
   "outputs": [
    {
     "data": {
      "image/png": "[encoded data removed]",
      "text/plain": [
       "<Figure size 800x400 with 1 Axes>"
      ]
     },
     "metadata": {},
     "output_type": "display_data"
    },
    {
     "name": "stdout",
     "output_type": "stream",
     "text": [
      "+---------------------+---------+-----------+----------+----------+----------+-----------+-----------+-----------+\n",
      "|                     |   count |      mean |      std |      min |      25% |       50% |       75% |       max |\n",
      "+=====================+=========+===========+==========+==========+==========+===========+===========+===========+\n",
      "| Impressions_control |   30.00 | 109543.63 | 21311.88 | 71274.00 | 95191.25 | 112368.00 | 121259.00 | 145248.00 |\n",
      "+---------------------+---------+-----------+----------+----------+----------+-----------+-----------+-----------+\n",
      "| Impressions_test    |   30.00 |  74584.80 | 32121.38 | 22521.00 | 47541.25 |  68853.50 |  99500.00 | 133771.00 |\n",
      "+---------------------+---------+-----------+----------+----------+----------+-----------+-----------+-----------+\n"
     ]
    }
   ],
   "source": [
    "df_melted = df[[\"Impressions_control\",\"Impressions_test\"]].melt(var_name='Group', value_name='Values')\n",
    "\n",
    "plt.figure(figsize=(8, 4))\n",
    "sns.boxplot(x='Group', y='Values', data=df_melted)\n",
    "\n",
    "plt.title('Comparison of # Impressions between control and test group')\n",
    "plt.ylabel('Counts')\n",
    "plt.xlabel('Groups')\n",
    "plt.show()\n",
    "summary = df[[\"Impressions_control\",\"Impressions_test\"]].describe().T\n",
    "print(tabulate(summary, headers='keys', floatfmt=\".2f\", tablefmt=\"grid\"))\n"
   ]
  },
  {
   "cell_type": "markdown",
   "id": "09e5f8d1",
   "metadata": {
    "papermill": {
     "duration": 0.011093,
     "end_time": "2024-09-24T09:23:40.779172",
     "exception": false,
     "start_time": "2024-09-24T09:23:40.768079",
     "status": "completed"
    },
    "tags": []
   },
   "source": [
    "### Spend"
   ]
  },
  {
   "cell_type": "code",
   "execution_count": 12,
   "id": "563142b3",
   "metadata": {
    "execution": {
     "iopub.execute_input": "2024-09-24T09:23:40.803747Z",
     "iopub.status.busy": "2024-09-24T09:23:40.803349Z",
     "iopub.status.idle": "2024-09-24T09:23:41.049595Z",
     "shell.execute_reply": "2024-09-24T09:23:41.048272Z"
    },
    "papermill": {
     "duration": 0.2613,
     "end_time": "2024-09-24T09:23:41.051872",
     "exception": false,
     "start_time": "2024-09-24T09:23:40.790572",
     "status": "completed"
    },
    "tags": []
   },
   "outputs": [
    {
     "data": {
      "image/png": "[encoded data removed]",
      "text/plain": [
       "<Figure size 800x400 with 1 Axes>"
      ]
     },
     "metadata": {},
     "output_type": "display_data"
    },
    {
     "name": "stdout",
     "output_type": "stream",
     "text": [
      "+---------------+---------+---------+--------+---------+---------+---------+---------+---------+\n",
      "|               |   count |    mean |    std |     min |     25% |     50% |     75% |     max |\n",
      "+===============+=========+=========+========+=========+=========+=========+=========+=========+\n",
      "| Spend_control |   30.00 | 2288.43 | 367.33 | 1757.00 | 1945.50 | 2299.50 | 2532.00 | 3083.00 |\n",
      "+---------------+---------+---------+--------+---------+---------+---------+---------+---------+\n",
      "| Spend_test    |   30.00 | 2563.07 | 348.69 | 1968.00 | 2324.50 | 2584.00 | 2836.25 | 3112.00 |\n",
      "+---------------+---------+---------+--------+---------+---------+---------+---------+---------+\n"
     ]
    }
   ],
   "source": [
    "df_melted = df[[\"Spend_control\",\"Spend_test\"]].melt(var_name='Group', value_name='Values')\n",
    "\n",
    "plt.figure(figsize=(8, 4))\n",
    "sns.boxplot(x='Group', y='Values', data=df_melted)\n",
    "\n",
    "plt.title('Comparison of Spend between control and test group')\n",
    "plt.ylabel('Counts')\n",
    "plt.xlabel('Groups')\n",
    "plt.show()\n",
    "summary = df[[\"Spend_control\",\"Spend_test\"]].describe().T\n",
    "print(tabulate(summary, headers='keys', floatfmt=\".2f\", tablefmt=\"grid\"))\n"
   ]
  },
  {
   "cell_type": "markdown",
   "id": "68cfc999",
   "metadata": {
    "papermill": {
     "duration": 0.011558,
     "end_time": "2024-09-24T09:23:41.075586",
     "exception": false,
     "start_time": "2024-09-24T09:23:41.064028",
     "status": "completed"
    },
    "tags": []
   },
   "source": [
    "### Reach"
   ]
  },
  {
   "cell_type": "code",
   "execution_count": 13,
   "id": "8f674b29",
   "metadata": {
    "execution": {
     "iopub.execute_input": "2024-09-24T09:23:41.101611Z",
     "iopub.status.busy": "2024-09-24T09:23:41.100669Z",
     "iopub.status.idle": "2024-09-24T09:23:41.296766Z",
     "shell.execute_reply": "2024-09-24T09:23:41.295451Z"
    },
    "papermill": {
     "duration": 0.211828,
     "end_time": "2024-09-24T09:23:41.299340",
     "exception": false,
     "start_time": "2024-09-24T09:23:41.087512",
     "status": "completed"
    },
    "tags": []
   },
   "outputs": [
    {
     "data": {
      "image/png": "[encoded data removed]",
      "text/plain": [
       "<Figure size 800x400 with 1 Axes>"
      ]
     },
     "metadata": {},
     "output_type": "display_data"
    },
    {
     "name": "stdout",
     "output_type": "stream",
     "text": [
      "+---------------+---------+----------+----------+----------+----------+----------+-----------+-----------+\n",
      "|               |   count |     mean |      std |      min |      25% |      50% |       75% |       max |\n",
      "+===============+=========+==========+==========+==========+==========+==========+===========+===========+\n",
      "| Reach_control |   30.00 | 88816.70 | 21453.18 | 42859.00 | 75300.25 | 91418.00 | 101958.75 | 127852.00 |\n",
      "+---------------+---------+----------+----------+----------+----------+----------+-----------+-----------+\n",
      "| Reach_test    |   30.00 | 53491.57 | 28795.78 | 10598.00 | 31516.25 | 44219.50 |  78778.75 | 109834.00 |\n",
      "+---------------+---------+----------+----------+----------+----------+----------+-----------+-----------+\n"
     ]
    }
   ],
   "source": [
    "df_melted = df[[\"Reach_control\",\"Reach_test\"]].melt(var_name='Group', value_name='Values')\n",
    "\n",
    "plt.figure(figsize=(8, 4))\n",
    "sns.boxplot(x='Group', y='Values', data=df_melted)\n",
    "\n",
    "plt.title('Comparison of Reach between control and test group')\n",
    "plt.ylabel('Counts')\n",
    "plt.xlabel('Groups')\n",
    "plt.show()\n",
    "summary = df[[\"Reach_control\",\"Reach_test\"]].describe().T\n",
    "print(tabulate(summary, headers='keys', floatfmt=\".2f\", tablefmt=\"grid\"))\n"
   ]
  },
  {
   "cell_type": "markdown",
   "id": "5c3d6724",
   "metadata": {
    "papermill": {
     "duration": 0.012421,
     "end_time": "2024-09-24T09:23:41.324620",
     "exception": false,
     "start_time": "2024-09-24T09:23:41.312199",
     "status": "completed"
    },
    "tags": []
   },
   "source": [
    "### Purchase"
   ]
  },
  {
   "cell_type": "code",
   "execution_count": 14,
   "id": "444f40ab",
   "metadata": {
    "execution": {
     "iopub.execute_input": "2024-09-24T09:23:41.351634Z",
     "iopub.status.busy": "2024-09-24T09:23:41.350985Z",
     "iopub.status.idle": "2024-09-24T09:23:41.560132Z",
     "shell.execute_reply": "2024-09-24T09:23:41.558990Z"
    },
    "papermill": {
     "duration": 0.225137,
     "end_time": "2024-09-24T09:23:41.562260",
     "exception": false,
     "start_time": "2024-09-24T09:23:41.337123",
     "status": "completed"
    },
    "tags": []
   },
   "outputs": [
    {
     "data": {
      "image/png": "[encoded data removed]",
      "text/plain": [
       "<Figure size 800x400 with 1 Axes>"
      ]
     },
     "metadata": {},
     "output_type": "display_data"
    },
    {
     "name": "stdout",
     "output_type": "stream",
     "text": [
      "+------------------+---------+--------+--------+--------+--------+--------+--------+--------+\n",
      "|                  |   count |   mean |    std |    min |    25% |    50% |    75% |    max |\n",
      "+==================+=========+========+========+========+========+========+========+========+\n",
      "| Purchase_control |   30.00 | 530.83 | 187.07 | 222.00 | 375.50 | 506.00 | 718.00 | 800.00 |\n",
      "+------------------+---------+--------+--------+--------+--------+--------+--------+--------+\n",
      "| Purchase_test    |   30.00 | 521.23 | 211.05 | 238.00 | 298.00 | 500.00 | 701.00 | 890.00 |\n",
      "+------------------+---------+--------+--------+--------+--------+--------+--------+--------+\n"
     ]
    }
   ],
   "source": [
    "df_melted = df[[\"Purchase_control\",\"Purchase_test\"]].melt(var_name='Group', value_name='Values')\n",
    "\n",
    "plt.figure(figsize=(8, 4))\n",
    "sns.boxplot(x='Group', y='Values', data=df_melted)\n",
    "\n",
    "plt.title('Comparison of Purchase between control and test group')\n",
    "plt.ylabel('Counts')\n",
    "plt.xlabel('Groups')\n",
    "plt.show()\n",
    "summary = df[[\"Purchase_control\",\"Purchase_test\"]].describe().T\n",
    "print(tabulate(summary, headers='keys', floatfmt=\".2f\", tablefmt=\"grid\"))\n"
   ]
  },
  {
   "cell_type": "markdown",
   "id": "d542f700",
   "metadata": {
    "papermill": {
     "duration": 0.012721,
     "end_time": "2024-09-24T09:23:41.588628",
     "exception": false,
     "start_time": "2024-09-24T09:23:41.575907",
     "status": "completed"
    },
    "tags": []
   },
   "source": [
    "By looking at above plots, it seems that the spend is more for test group which tells us more money spent on test campaign.\n",
    "\n",
    "The total impression is lesser than the control which says the new test marketing ad has appeared very less number of times compared to older ad.\n",
    "\n",
    "As the total impression is comparitively lesser , we can expect other metrics like reach, and # of clicks to be relatively less for the test.\n",
    "\n",
    "But, in the last the number of purchases looks almost similar between test and control. Which signifies even the scale of ads run was comapretively less it seems to be effective than control group.\n",
    "\n",
    "So lets see if these changes are statistically significant by running some tests. \n",
    "But again looking at these existing features may not give us the better results. So we can derive some generalized features which can be compared through statistical tests."
   ]
  },
  {
   "cell_type": "markdown",
   "id": "3a56b053",
   "metadata": {
    "jp-MarkdownHeadingCollapsed": true,
    "papermill": {
     "duration": 0.012811,
     "end_time": "2024-09-24T09:23:41.614630",
     "exception": false,
     "start_time": "2024-09-24T09:23:41.601819",
     "status": "completed"
    },
    "tags": []
   },
   "source": [
    "## Feature creation"
   ]
  },
  {
   "cell_type": "markdown",
   "id": "4e5df837",
   "metadata": {
    "papermill": {
     "duration": 0.012781,
     "end_time": "2024-09-24T09:23:41.640444",
     "exception": false,
     "start_time": "2024-09-24T09:23:41.627663",
     "status": "completed"
    },
    "tags": []
   },
   "source": [
    "To continue with the tests we will create these below features and will see if there any significant differences in these.\n",
    "\n",
    "#### **Cost per Mille (CPM)**  \n",
    "**Definition**: The cost to generate 1,000 impressions from your marketing campaign.  \n",
    "**Usage**: Commonly used in display advertising, this metric shows the cost efficiency of generating visibility for your ads.\n",
    "\n",
    "$$\\text{CPM} = \\left( \\frac{\\text{Total Spend}}{\\text{Impressions}} \\right) \\times 1000$$  \n",
    "\n",
    "\n",
    "#### **Click-Through Rate (CTR)**  \n",
    "**Definition**: Measures how many users clicked on your website link after seeing it (based on impressions).  \n",
    "**Usage**: Indicates how effective your ad or content is at driving traffic to the website.\n",
    "\n",
    "$$\\text{CTR} = \\left( \\frac{\\text{Website Clicks}}{\\text{Impressions}} \\right) \\times 100$$\n",
    "\n",
    "\n",
    "\n",
    "#### **Cost per Click (CPC)**\n",
    "**Definition**: Measures the cost of each click generated by your marketing spend.  \n",
    "**Usage**: Helps determine how cost-efficient your campaigns are at generating clicks.\n",
    "\n",
    "$$\\text{CPC} = \\frac{\\text{Total Spend}}{\\text{Website Clicks}}$$\n",
    "\n",
    "#### **Conversion Rate**\n",
    "**Definition**: The percentage of visitors who take a desired action, such as making a purchase after clicking on the website.  \n",
    "**Usage**: Helps assess how well your site converts visitors into customers.  \n",
    "\n",
    "$$\\text{Conversion Rate} = \\left( \\frac{\\text{Purchases}}{\\text{Website Clicks}} \\right) \\times 100$$\n",
    "\n",
    "\n",
    "#### **Reach-to-Click Rate**\n",
    "**Definition**: The percentage of unique users (reach) who clicked on the website link.    \n",
    "**Usage**: Indicates how well your content converts reach into website traffic.  \n",
    "\n",
    "$$\\text{Reach-to-Click Rate} = \\left( \\frac{\\text{Website Clicks}}{\\text{Reach}} \\right) \\times 100$$\n",
    "\n",
    "\n",
    "#### **Content Viewed-to-Add-to-Cart Rate**\n",
    "**Definition**: The percentage of users who added an item to the cart after viewing product content.      \n",
    "**Usage**:  Shows how engaging and persuasive your product content is in getting users to consider a purchase.  \n",
    "\n",
    "$$\\text{Content-to-Cart Rate} = \\left( \\frac{\\text{Add to Cart Number}}{\\text{Content Viewed}} \\right) \\times 100$$\n",
    "\n",
    "\n",
    "#### **Cart Abandonment Rate**\n",
    "**Definition**: The percentage of users who added items to their cart but didn’t complete the purchase.     \n",
    "**Usage**:  Helps identify friction in the checkout process or hesitations in the customer journey.  \n",
    "\n",
    "$$\\text{Cart Abandonment Rate} = \\left( \\frac{\\text{Add to Cart Number} - \\text{Purchases}}{\\text{Add to Cart Number}} \\right) \\times 100$$\n",
    "\n",
    "\n",
    "\n",
    "#### **Purchase Rate (Impressions to Purchases)**\n",
    "**Definition**: The percentage of users who made a purchase after seeing the content or ad.    \n",
    "**Usage**:  This metric helps measure the overall success of your impressions at driving actual sales.  \n",
    "\n",
    "$$\\text{Purchase Rate (Impressions)} = \\left( \\frac{\\text{Purchases}}{\\text{Impressions}} \\right) \\times 100$$\n",
    "\n",
    "\n",
    "#### **Purchase Rate (Content Viewed to Purchase)**\n",
    "**Definition**: The percentage of users who made a purchase after viewing product content.     \n",
    "**Usage**:  Indicates how well product pages convert content viewers into paying customers.  \n",
    "\n",
    "$$\\text{Content-to-Purchase Rate} = \\left( \\frac{\\text{Purchases}}{\\text{Content Viewed}} \\right) \\times 100$$\n",
    "\n",
    "\n",
    "\n",
    "        \n",
    "\n"
   ]
  },
  {
   "cell_type": "code",
   "execution_count": 15,
   "id": "b434980e",
   "metadata": {
    "execution": {
     "iopub.execute_input": "2024-09-24T09:23:41.668612Z",
     "iopub.status.busy": "2024-09-24T09:23:41.667877Z",
     "iopub.status.idle": "2024-09-24T09:23:41.691606Z",
     "shell.execute_reply": "2024-09-24T09:23:41.690552Z"
    },
    "papermill": {
     "duration": 0.040295,
     "end_time": "2024-09-24T09:23:41.693912",
     "exception": false,
     "start_time": "2024-09-24T09:23:41.653617",
     "status": "completed"
    },
    "tags": []
   },
   "outputs": [],
   "source": [
    "# Cost per Mille (CPM)\n",
    "\n",
    "df['Cost per Mille (CPM)_control'] = np.divide(df['Spend_control'],df['Impressions_control'])* 1000\n",
    "df['Cost per Mille (CPM)_test']  = np.divide(df['Spend_test'],df['Impressions_test']) * 1000\n",
    "\n",
    "# Click-Through Rate (CTR)\n",
    "\n",
    "df['Click-Through Rate (CTR)_control'] = np.divide(df['Website Clicks_control'],df['Impressions_control'])* 100\n",
    "df['Click-Through Rate (CTR)_test'] = np.divide(df['Website Clicks_test'],df['Impressions_test']) * 100\n",
    "\n",
    "# Cost per Click (CPC)\n",
    "\n",
    "df['Cost per Click (CPC)_control'] = np.divide(df['Spend_control'],df['Website Clicks_control'])\n",
    "df['Cost per Click (CPC)_test'] = np.divide(df['Spend_test'],df['Website Clicks_test'])\n",
    "\n",
    "# Conversion Rate\n",
    "\n",
    "df['Conversion Rate_control'] = np.divide(df['Purchase_control'],df['Website Clicks_control'])*100\n",
    "df['Conversion Rate_test'] = np.divide(df['Purchase_test'],df['Website Clicks_test'])*100\n",
    "\n",
    "\n",
    "# Reach-to-Click Rate\n",
    "\n",
    "df['Reach-to-Click Rate_control'] = np.divide(df['Website Clicks_control'],df['Reach_control']) * 100\n",
    "df['Reach-to-Click Rate_test'] = np.divide(df['Website Clicks_test'],df['Reach_test']) * 100\n",
    "\n",
    "\n",
    "# Content Viewed-to-Add-to-Cart Rate\n",
    "\n",
    "df['Content Viewed-to-Add-to-Cart Rate_control'] = np.divide(df['Add to Cart_control'],df['View Content_control']) * 100\n",
    "df['Content Viewed-to-Add-to-Cart Rate_test'] = np.divide(df['Add to Cart_test'],df['View Content_test']) * 100\n",
    "\n",
    "\n",
    "# Cart Abandonment Rate\n",
    "\n",
    "df['Cart Abandonment Rate_control'] = np.divide((df['Add to Cart_control'] - df['Purchase_control']),df['Add to Cart_control']) * 100\n",
    "df['Cart Abandonment Rate_test'] = np.divide((df['Add to Cart_test'] - df['Purchase_test']),df['Add to Cart_test']) * 100\n",
    "\n",
    "\n",
    "# Purchase Rate (Impressions to Purchases) \n",
    "\n",
    "df['Purchase Rate (Impressions to Purchases)_control']  = np.divide(df['Purchase_control'],df['Impressions_control']) * 100\n",
    "df['Purchase Rate (Impressions to Purchases)_test']  = np.divide(df['Purchase_test'],df['Impressions_test']) * 100\n",
    "\n",
    "\n",
    "# Purchase Rate (Content Viewed to Purchase)\n",
    "\n",
    "df['Purchase Rate (Content Viewed to Purchase)_control'] = np.divide(df['Purchase_control'],df['View Content_control']) * 100\n",
    "df['Purchase Rate (Content Viewed to Purchase)_test'] = np.divide(df['Purchase_test'],df['View Content_test']) * 100\n"
   ]
  },
  {
   "cell_type": "markdown",
   "id": "dc1e16ad",
   "metadata": {
    "jp-MarkdownHeadingCollapsed": true,
    "papermill": {
     "duration": 0.012714,
     "end_time": "2024-09-24T09:23:41.719821",
     "exception": false,
     "start_time": "2024-09-24T09:23:41.707107",
     "status": "completed"
    },
    "tags": []
   },
   "source": [
    "## Hypothesis Tests"
   ]
  },
  {
   "cell_type": "code",
   "execution_count": 16,
   "id": "4cfafe29",
   "metadata": {
    "execution": {
     "iopub.execute_input": "2024-09-24T09:23:41.748201Z",
     "iopub.status.busy": "2024-09-24T09:23:41.747137Z",
     "iopub.status.idle": "2024-09-24T09:23:41.752071Z",
     "shell.execute_reply": "2024-09-24T09:23:41.751221Z"
    },
    "papermill": {
     "duration": 0.02134,
     "end_time": "2024-09-24T09:23:41.754173",
     "exception": false,
     "start_time": "2024-09-24T09:23:41.732833",
     "status": "completed"
    },
    "tags": []
   },
   "outputs": [],
   "source": [
    "features = [\"Cost per Mille (CPM)\",\"Click-Through Rate (CTR)\",\"Cost per Click (CPC)\",\"Conversion Rate\",\"Reach-to-Click Rate\",\n",
    "           \"Content Viewed-to-Add-to-Cart Rate\",\"Cart Abandonment Rate\",\"Purchase Rate (Impressions to Purchases)\",\n",
    "            \"Purchase Rate (Content Viewed to Purchase)\"]"
   ]
  },
  {
   "cell_type": "markdown",
   "id": "b33c81ba",
   "metadata": {
    "papermill": {
     "duration": 0.012759,
     "end_time": "2024-09-24T09:23:41.780218",
     "exception": false,
     "start_time": "2024-09-24T09:23:41.767459",
     "status": "completed"
    },
    "tags": []
   },
   "source": [
    "#### **Deciding the tests**\n",
    "\n",
    "\n",
    "So we can first decide which hypothesis test suits each feature better. We can decide by the following approach\n",
    "1. If the data is normally distributed and follows **equality of variance** then we can perform **Independent T test**.\n",
    "2. If the data is normally distributed and **does not follow equality of variance**, we can run **Welch's t-test**.\n",
    "3. If the data is not normally distributed then we can go with the **Mann-Whitney U test**\n",
    "\n",
    "*Equality of variance (also known as homogeneity of variance or homoscedasticity) refers to the assumption that different groups in your dataset have the same variance. This means that the spread or variability of the data points within each group is approximately the same*  \n",
    "\n",
    "We can run **Shapiro-Wilk test** to check if the features are normally distributed or not.  \n",
    "We will be using **Levene's Test** to check the Equality of variances.\n",
    "\n",
    "\n",
    "So our hypothesis is going to be the following :\n",
    "\n",
    "**H0/Null Hypothesis** - There is no statistically significant changes between control and test group.  \n",
    "**H1/Alternate Hypothesis** - There is some statistically significant changes between control and test group\n",
    "\n",
    "\n"
   ]
  },
  {
   "cell_type": "code",
   "execution_count": 17,
   "id": "c9c5a05f",
   "metadata": {
    "execution": {
     "iopub.execute_input": "2024-09-24T09:23:41.807812Z",
     "iopub.status.busy": "2024-09-24T09:23:41.807411Z",
     "iopub.status.idle": "2024-09-24T09:23:41.821140Z",
     "shell.execute_reply": "2024-09-24T09:23:41.820290Z"
    },
    "papermill": {
     "duration": 0.030147,
     "end_time": "2024-09-24T09:23:41.823402",
     "exception": false,
     "start_time": "2024-09-24T09:23:41.793255",
     "status": "completed"
    },
    "tags": []
   },
   "outputs": [],
   "source": [
    "## Checking normality by Shapiro test\n",
    "#\n",
    "# Also creating a dataframe \"results_df\" with all the features and corresponding values of tests and results\n",
    "#\n",
    "#\n",
    "\n",
    "\n",
    "results_df = pd.DataFrame()\n",
    "results_df['Features'] = features\n",
    "\n",
    "test_statistics = []\n",
    "p_values = []\n",
    "results = []\n",
    "\n",
    "# Looping for all the features and running Shapiro to each of the feature and saving the different results in different lists\n",
    "for feature in features:\n",
    "\n",
    "    col = feature+\"_test\"\n",
    "    statistic,p_value = stats.shapiro(df[col])\n",
    "    test_statistics.append(statistic)\n",
    "    p_values.append(p_value)    \n",
    "    # print(f'Feature : {col} , Statistic: {statistic}, P-value: {p_value}')\n",
    "\n",
    "    if p_value<0.05:\n",
    "        results.append(\"Mann-Whitney U test\")\n",
    "    else:\n",
    "        results.append(\"Ind T test\")\n",
    "\n",
    "\n",
    "# Adding the results into the Global dataframe \"results_df\", its correspoding features rest resilts \n",
    "\n",
    "results_df['Shapiro_statistics'] = test_statistics\n",
    "results_df['Shapiro_p_value'] = p_values\n",
    "results_df['Hypothesis Test'] = results\n",
    "\n"
   ]
  },
  {
   "cell_type": "code",
   "execution_count": 18,
   "id": "beddb7ff",
   "metadata": {
    "execution": {
     "iopub.execute_input": "2024-09-24T09:23:41.851509Z",
     "iopub.status.busy": "2024-09-24T09:23:41.851142Z",
     "iopub.status.idle": "2024-09-24T09:23:41.858582Z",
     "shell.execute_reply": "2024-09-24T09:23:41.857488Z"
    },
    "papermill": {
     "duration": 0.024406,
     "end_time": "2024-09-24T09:23:41.861149",
     "exception": false,
     "start_time": "2024-09-24T09:23:41.836743",
     "status": "completed"
    },
    "tags": []
   },
   "outputs": [
    {
     "name": "stdout",
     "output_type": "stream",
     "text": [
      "+----+--------------------------------------------+----------------------+-------------------+---------------------+\n",
      "|    | Features                                   |   Shapiro_statistics |   Shapiro_p_value | Hypothesis Test     |\n",
      "+====+============================================+======================+===================+=====================+\n",
      "|  0 | Cost per Mille (CPM)                       |               0.8486 |            0.0006 | Mann-Whitney U test |\n",
      "+----+--------------------------------------------+----------------------+-------------------+---------------------+\n",
      "|  1 | Click-Through Rate (CTR)                   |               0.8409 |            0.0004 | Mann-Whitney U test |\n",
      "+----+--------------------------------------------+----------------------+-------------------+---------------------+\n",
      "|  2 | Cost per Click (CPC)                       |               0.9114 |            0.0162 | Mann-Whitney U test |\n",
      "+----+--------------------------------------------+----------------------+-------------------+---------------------+\n",
      "|  3 | Conversion Rate                            |               0.9255 |            0.0373 | Mann-Whitney U test |\n",
      "+----+--------------------------------------------+----------------------+-------------------+---------------------+\n",
      "|  4 | Reach-to-Click Rate                        |               0.6677 |            0.0000 | Mann-Whitney U test |\n",
      "+----+--------------------------------------------+----------------------+-------------------+---------------------+\n",
      "|  5 | Content Viewed-to-Add-to-Cart Rate         |               0.9729 |            0.6214 | Ind T test          |\n",
      "+----+--------------------------------------------+----------------------+-------------------+---------------------+\n",
      "|  6 | Cart Abandonment Rate                      |               0.9773 |            0.7489 | Ind T test          |\n",
      "+----+--------------------------------------------+----------------------+-------------------+---------------------+\n",
      "|  7 | Purchase Rate (Impressions to Purchases)   |               0.8838 |            0.0035 | Mann-Whitney U test |\n",
      "+----+--------------------------------------------+----------------------+-------------------+---------------------+\n",
      "|  8 | Purchase Rate (Content Viewed to Purchase) |               0.8603 |            0.0010 | Mann-Whitney U test |\n",
      "+----+--------------------------------------------+----------------------+-------------------+---------------------+\n"
     ]
    }
   ],
   "source": [
    "print(tabulate(results_df, headers='keys', floatfmt=\".4f\",tablefmt=\"grid\"))\n"
   ]
  },
  {
   "cell_type": "code",
   "execution_count": 19,
   "id": "1663c829",
   "metadata": {
    "execution": {
     "iopub.execute_input": "2024-09-24T09:23:41.889309Z",
     "iopub.status.busy": "2024-09-24T09:23:41.888623Z",
     "iopub.status.idle": "2024-09-24T09:23:41.912142Z",
     "shell.execute_reply": "2024-09-24T09:23:41.911031Z"
    },
    "papermill": {
     "duration": 0.040276,
     "end_time": "2024-09-24T09:23:41.914555",
     "exception": false,
     "start_time": "2024-09-24T09:23:41.874279",
     "status": "completed"
    },
    "tags": []
   },
   "outputs": [
    {
     "name": "stdout",
     "output_type": "stream",
     "text": [
      "+----+------------------------------------+---------------------+------------------+------------------------+\n",
      "|    | Features                           |   Levene_statistics |   Levene_P-value | Hypothesis Tests New   |\n",
      "+====+====================================+=====================+==================+========================+\n",
      "|  0 | Content Viewed-to-Add-to-Cart Rate |              2.9999 |           0.0886 | Ind T test             |\n",
      "+----+------------------------------------+---------------------+------------------+------------------------+\n",
      "|  1 | Cart Abandonment Rate              |              2.3760 |           0.1286 | Ind T test             |\n",
      "+----+------------------------------------+---------------------+------------------+------------------------+\n"
     ]
    }
   ],
   "source": [
    "## Running Levenes Tets for checking equality of variance\n",
    "#\n",
    "# Also adding the results of the tests into a different dataframe\n",
    "#\n",
    "\n",
    "\n",
    "t_test_features = list(results_df.loc[results_df['Hypothesis Test']==\"Ind T test\",'Features'].values)\n",
    "\n",
    "levenes_results = pd.DataFrame()\n",
    "levenes_results['Features'] = t_test_features\n",
    "\n",
    "test_statistics2 = []\n",
    "p_values2 = []\n",
    "results2 = []\n",
    "\n",
    "for feat in t_test_features:\n",
    "    test_col = feat + \"_test\"\n",
    "    conttrol_col = feat + \"_control\"\n",
    "\n",
    "    \n",
    "    statistic,p_value = stats.levene(df[test_col],df[conttrol_col])\n",
    "    test_statistics2.append(statistic)\n",
    "    p_values2.append(p_value)\n",
    "    \n",
    "    # print(f'Feature : {feat} , Statistic: {statistic}, P-value: {p_value}')\n",
    "\n",
    "    if p_value<0.05:\n",
    "        results2.append(\"Welch's T test\")\n",
    "    else:\n",
    "        results2.append(\"Ind T test\")\n",
    "\n",
    "\n",
    "levenes_results['Levene_statistics'] = test_statistics2\n",
    "levenes_results['Levene_P-value'] = p_values2\n",
    "levenes_results['Hypothesis Tests New'] = results2\n",
    "\n",
    "print(tabulate(levenes_results, headers='keys', floatfmt=\".4f\",tablefmt=\"grid\"))\n",
    "\n",
    "\n",
    "## Merging the Levene's tests results into the Global features dataframe.\n",
    "\n",
    "results_df = results_df.merge(levenes_results[['Features','Hypothesis Tests New']],on='Features',how='left')"
   ]
  },
  {
   "cell_type": "markdown",
   "id": "bf5e74ce",
   "metadata": {
    "papermill": {
     "duration": 0.013048,
     "end_time": "2024-09-24T09:23:41.941189",
     "exception": false,
     "start_time": "2024-09-24T09:23:41.928141",
     "status": "completed"
    },
    "tags": []
   },
   "source": [
    "**Updating the Hypothesis tests**"
   ]
  },
  {
   "cell_type": "code",
   "execution_count": 20,
   "id": "ba3177f6",
   "metadata": {
    "execution": {
     "iopub.execute_input": "2024-09-24T09:23:41.969708Z",
     "iopub.status.busy": "2024-09-24T09:23:41.968912Z",
     "iopub.status.idle": "2024-09-24T09:23:41.977993Z",
     "shell.execute_reply": "2024-09-24T09:23:41.976910Z"
    },
    "papermill": {
     "duration": 0.026047,
     "end_time": "2024-09-24T09:23:41.980593",
     "exception": false,
     "start_time": "2024-09-24T09:23:41.954546",
     "status": "completed"
    },
    "tags": []
   },
   "outputs": [
    {
     "name": "stdout",
     "output_type": "stream",
     "text": [
      "+----+--------------------------------------------+---------------------+\n",
      "|    | Features                                   | Hypothesis Test     |\n",
      "+====+============================================+=====================+\n",
      "|  0 | Cost per Mille (CPM)                       | Mann-Whitney U test |\n",
      "+----+--------------------------------------------+---------------------+\n",
      "|  1 | Click-Through Rate (CTR)                   | Mann-Whitney U test |\n",
      "+----+--------------------------------------------+---------------------+\n",
      "|  2 | Cost per Click (CPC)                       | Mann-Whitney U test |\n",
      "+----+--------------------------------------------+---------------------+\n",
      "|  3 | Conversion Rate                            | Mann-Whitney U test |\n",
      "+----+--------------------------------------------+---------------------+\n",
      "|  4 | Reach-to-Click Rate                        | Mann-Whitney U test |\n",
      "+----+--------------------------------------------+---------------------+\n",
      "|  5 | Content Viewed-to-Add-to-Cart Rate         | Ind T test          |\n",
      "+----+--------------------------------------------+---------------------+\n",
      "|  6 | Cart Abandonment Rate                      | Ind T test          |\n",
      "+----+--------------------------------------------+---------------------+\n",
      "|  7 | Purchase Rate (Impressions to Purchases)   | Mann-Whitney U test |\n",
      "+----+--------------------------------------------+---------------------+\n",
      "|  8 | Purchase Rate (Content Viewed to Purchase) | Mann-Whitney U test |\n",
      "+----+--------------------------------------------+---------------------+\n"
     ]
    }
   ],
   "source": [
    "### Updating the Hypothesis tests after the Levene;s test and retaining only required columns \n",
    "\n",
    "results_df['Hypothesis Test'] = np.where(results_df['Hypothesis Tests New'].isna(),results_df['Hypothesis Test'],results_df['Hypothesis Tests New'])\n",
    "\n",
    "results_df = results_df[['Features','Hypothesis Test']]\n",
    "\n",
    "print(tabulate(results_df, headers='keys', floatfmt=\".4f\",tablefmt=\"grid\"))\n"
   ]
  },
  {
   "cell_type": "code",
   "execution_count": 21,
   "id": "7b5de807",
   "metadata": {
    "execution": {
     "iopub.execute_input": "2024-09-24T09:23:42.009223Z",
     "iopub.status.busy": "2024-09-24T09:23:42.008797Z",
     "iopub.status.idle": "2024-09-24T09:23:42.016165Z",
     "shell.execute_reply": "2024-09-24T09:23:42.015161Z"
    },
    "papermill": {
     "duration": 0.024311,
     "end_time": "2024-09-24T09:23:42.018335",
     "exception": false,
     "start_time": "2024-09-24T09:23:41.994024",
     "status": "completed"
    },
    "tags": []
   },
   "outputs": [],
   "source": [
    "#\n",
    "# Defining a program to run the corresponding hypothesis tests for each of the features\n",
    "#\n",
    "\n",
    "def run_test(feature,test):\n",
    "    \n",
    "    if test == 'Ind T test':\n",
    "        statistic,p_value = stats.ttest_ind(df[feature+\"_control\"],df[feature+\"_test\"])\n",
    "    elif test == 'Mann-Whitney U test':\n",
    "        statistic,p_value = stats.mannwhitneyu(df[feature+\"_control\"],df[feature+\"_test\"],alternative='two-sided')\n",
    "    elif test == \"Welch's T test\":\n",
    "        statistic,p_value = stats.ttest_ind(df[feature+\"_control\"],df[feature+\"_test\"],equal_var=False)\n",
    "\n",
    "    # print(\"___________________________________________________________________________________________________\")\n",
    "\n",
    "    # print(f'Featue : {feature} ,Statistic: {statistic}, P-value: {p_value}')\n",
    "    if p_value>0.05:\n",
    "        # print(f\"There is no statistically significant differences in the feature {feature}\")\n",
    "        return statistic,p_value,False\n",
    "    else:\n",
    "        # print(f\"There is statistically significant differences in the feature {feature}\")\n",
    "        return statistic,p_value,True   \n"
   ]
  },
  {
   "cell_type": "code",
   "execution_count": 22,
   "id": "3ddb905c",
   "metadata": {
    "execution": {
     "iopub.execute_input": "2024-09-24T09:23:42.046930Z",
     "iopub.status.busy": "2024-09-24T09:23:42.046535Z",
     "iopub.status.idle": "2024-09-24T09:23:42.070085Z",
     "shell.execute_reply": "2024-09-24T09:23:42.069129Z"
    },
    "papermill": {
     "duration": 0.040654,
     "end_time": "2024-09-24T09:23:42.072501",
     "exception": false,
     "start_time": "2024-09-24T09:23:42.031847",
     "status": "completed"
    },
    "tags": []
   },
   "outputs": [],
   "source": [
    "#\n",
    "#\n",
    "# Running the corresponding hypothesis tests to each features and adding all the test results into the Global results dataframe\n",
    "#\n",
    "#\n",
    "statistics = []\n",
    "p_values = []\n",
    "result_result = []\n",
    "\n",
    "for ind,row in results_df.iterrows():\n",
    "    result = run_test(row['Features'],row['Hypothesis Test'])\n",
    "    statistics.append(result[0])\n",
    "    p_values.append(result[1])\n",
    "    result_result.append(result[2])\n",
    "\n",
    "\n",
    "## Updating all the test results into Global dataframe\n",
    "\n",
    "results_df['Test Statistics'] = statistics\n",
    "results_df['p value'] = p_values\n",
    "results_df['Difference exists'] = result_result\n"
   ]
  },
  {
   "cell_type": "code",
   "execution_count": 23,
   "id": "f7402200",
   "metadata": {
    "execution": {
     "iopub.execute_input": "2024-09-24T09:23:42.101659Z",
     "iopub.status.busy": "2024-09-24T09:23:42.100735Z",
     "iopub.status.idle": "2024-09-24T09:23:42.108193Z",
     "shell.execute_reply": "2024-09-24T09:23:42.107133Z"
    },
    "papermill": {
     "duration": 0.024682,
     "end_time": "2024-09-24T09:23:42.110786",
     "exception": false,
     "start_time": "2024-09-24T09:23:42.086104",
     "status": "completed"
    },
    "tags": []
   },
   "outputs": [
    {
     "name": "stdout",
     "output_type": "stream",
     "text": [
      "+----+--------------------------------------------+---------------------+-------------------+-----------+---------------------+\n",
      "|    | Features                                   | Hypothesis Test     |   Test Statistics |   p value | Difference exists   |\n",
      "+====+============================================+=====================+===================+===========+=====================+\n",
      "|  0 | Cost per Mille (CPM)                       | Mann-Whitney U test |          115.0000 |    0.0000 | True                |\n",
      "+----+--------------------------------------------+---------------------+-------------------+-----------+---------------------+\n",
      "|  1 | Click-Through Rate (CTR)                   | Mann-Whitney U test |          195.0000 |    0.0002 | True                |\n",
      "+----+--------------------------------------------+---------------------+-------------------+-----------+---------------------+\n",
      "|  2 | Cost per Click (CPC)                       | Mann-Whitney U test |          468.0000 |    0.7958 | False               |\n",
      "+----+--------------------------------------------+---------------------+-------------------+-----------+---------------------+\n",
      "|  3 | Conversion Rate                            | Mann-Whitney U test |          532.0000 |    0.2282 | False               |\n",
      "+----+--------------------------------------------+---------------------+-------------------+-----------+---------------------+\n",
      "|  4 | Reach-to-Click Rate                        | Mann-Whitney U test |          171.0000 |    0.0000 | True                |\n",
      "+----+--------------------------------------------+---------------------+-------------------+-----------+---------------------+\n",
      "|  5 | Content Viewed-to-Add-to-Cart Rate         | Ind T test          |            2.9812 |    0.0042 | True                |\n",
      "+----+--------------------------------------------+---------------------+-------------------+-----------+---------------------+\n",
      "|  6 | Cart Abandonment Rate                      | Ind T test          |            2.4211 |    0.0186 | True                |\n",
      "+----+--------------------------------------------+---------------------+-------------------+-----------+---------------------+\n",
      "|  7 | Purchase Rate (Impressions to Purchases)   | Mann-Whitney U test |          261.0000 |    0.0053 | True                |\n",
      "+----+--------------------------------------------+---------------------+-------------------+-----------+---------------------+\n",
      "|  8 | Purchase Rate (Content Viewed to Purchase) | Mann-Whitney U test |          475.0000 |    0.7172 | False               |\n",
      "+----+--------------------------------------------+---------------------+-------------------+-----------+---------------------+\n"
     ]
    }
   ],
   "source": [
    "print(tabulate(results_df, headers='keys', floatfmt=\".4f\",tablefmt=\"grid\"))\n"
   ]
  },
  {
   "cell_type": "markdown",
   "id": "11f571f5",
   "metadata": {
    "papermill": {
     "duration": 0.013642,
     "end_time": "2024-09-24T09:23:42.138355",
     "exception": false,
     "start_time": "2024-09-24T09:23:42.124713",
     "status": "completed"
    },
    "tags": []
   },
   "source": [
    "**We can see for total of 6 metrics there is some statistically significant difference exists.**\n",
    "\n",
    "**(But this does not mean the test campaign made some positive differences only in its effectiveness. The differences may be even worsening in any of these metrics.**  \n",
    "**So we should inspect each of these metrics and compared aginst both group to derive the final conclusion.**\n",
    "\n"
   ]
  },
  {
   "cell_type": "markdown",
   "id": "2c499169",
   "metadata": {
    "jp-MarkdownHeadingCollapsed": true,
    "papermill": {
     "duration": 0.013506,
     "end_time": "2024-09-24T09:23:42.165369",
     "exception": false,
     "start_time": "2024-09-24T09:23:42.151863",
     "status": "completed"
    },
    "tags": []
   },
   "source": [
    "## Validation of Test results"
   ]
  },
  {
   "cell_type": "code",
   "execution_count": 24,
   "id": "3fabc035",
   "metadata": {
    "execution": {
     "iopub.execute_input": "2024-09-24T09:23:42.194183Z",
     "iopub.status.busy": "2024-09-24T09:23:42.193753Z",
     "iopub.status.idle": "2024-09-24T09:23:42.204624Z",
     "shell.execute_reply": "2024-09-24T09:23:42.203779Z"
    },
    "papermill": {
     "duration": 0.028075,
     "end_time": "2024-09-24T09:23:42.206994",
     "exception": false,
     "start_time": "2024-09-24T09:23:42.178919",
     "status": "completed"
    },
    "tags": []
   },
   "outputs": [],
   "source": [
    "#\n",
    "## Calculating median of each feature in from both control and test group, for comparing....\n",
    "#\n",
    "\n",
    "results_df['control_median'] = results_df['Features'].apply(lambda x:df[x+\"_control\"].median())\n",
    "results_df['test_median'] = results_df['Features'].apply(lambda x:df[x+\"_test\"].median())\n",
    "\n"
   ]
  },
  {
   "cell_type": "code",
   "execution_count": 25,
   "id": "ef97b67f",
   "metadata": {
    "execution": {
     "iopub.execute_input": "2024-09-24T09:23:42.235853Z",
     "iopub.status.busy": "2024-09-24T09:23:42.235153Z",
     "iopub.status.idle": "2024-09-24T09:23:42.244488Z",
     "shell.execute_reply": "2024-09-24T09:23:42.243443Z"
    },
    "papermill": {
     "duration": 0.026647,
     "end_time": "2024-09-24T09:23:42.247245",
     "exception": false,
     "start_time": "2024-09-24T09:23:42.220598",
     "status": "completed"
    },
    "tags": []
   },
   "outputs": [
    {
     "name": "stdout",
     "output_type": "stream",
     "text": [
      "+----+------------------------------------------+---------------------+---------------------+------------------+---------------+\n",
      "|    | Features                                 | Hypothesis Test     | Difference exists   |   control_median |   test_median |\n",
      "+====+==========================================+=====================+=====================+==================+===============+\n",
      "|  0 | Cost per Mille (CPM)                     | Mann-Whitney U test | True                |          20.8804 |       34.1016 |\n",
      "+----+------------------------------------------+---------------------+---------------------+------------------+---------------+\n",
      "|  1 | Click-Through Rate (CTR)                 | Mann-Whitney U test | True                |           4.5792 |        8.0359 |\n",
      "+----+------------------------------------------+---------------------+---------------------+------------------+---------------+\n",
      "|  4 | Reach-to-Click Rate                      | Mann-Whitney U test | True                |           5.4585 |       14.9114 |\n",
      "+----+------------------------------------------+---------------------+---------------------+------------------+---------------+\n",
      "|  5 | Content Viewed-to-Add-to-Cart Rate       | Ind T test          | True                |          73.9768 |       50.8540 |\n",
      "+----+------------------------------------------+---------------------+---------------------+------------------+---------------+\n",
      "|  6 | Cart Abandonment Rate                    | Ind T test          | True                |          57.2531 |       37.8597 |\n",
      "+----+------------------------------------------+---------------------+---------------------+------------------+---------------+\n",
      "|  7 | Purchase Rate (Impressions to Purchases) | Mann-Whitney U test | True                |           0.4844 |        0.6819 |\n",
      "+----+------------------------------------------+---------------------+---------------------+------------------+---------------+\n"
     ]
    }
   ],
   "source": [
    "print(tabulate(results_df.loc[results_df['Difference exists']==True,['Features', 'Hypothesis Test','Difference exists', 'control_median', 'test_median']], headers='keys', floatfmt=\".4f\",tablefmt=\"grid\"))\n"
   ]
  },
  {
   "cell_type": "markdown",
   "id": "31cee847",
   "metadata": {
    "papermill": {
     "duration": 0.013413,
     "end_time": "2024-09-24T09:23:42.274697",
     "exception": false,
     "start_time": "2024-09-24T09:23:42.261284",
     "status": "completed"
    },
    "tags": []
   },
   "source": [
    "**It seems there is reduction happened for metrics like \"Content Viewed-to-Add-to-Cart Rate\" which is bad and for \"Cart Abandonment Rate\" which is good thing.**  \n",
    "\n",
    "**Also there are increase in median for rest of the 4 metrics including cost per Mille which is not expected but for others it shows improvement.**\n"
   ]
  },
  {
   "cell_type": "markdown",
   "id": "2fcdcaef",
   "metadata": {
    "papermill": {
     "duration": 0.01344,
     "end_time": "2024-09-24T09:23:42.302052",
     "exception": false,
     "start_time": "2024-09-24T09:23:42.288612",
     "status": "completed"
    },
    "tags": []
   },
   "source": [
    "**Lets validate these changes visually for these metrics...**"
   ]
  },
  {
   "cell_type": "code",
   "execution_count": 26,
   "id": "bd4f4646",
   "metadata": {
    "execution": {
     "iopub.execute_input": "2024-09-24T09:23:42.331461Z",
     "iopub.status.busy": "2024-09-24T09:23:42.331057Z",
     "iopub.status.idle": "2024-09-24T09:23:43.763368Z",
     "shell.execute_reply": "2024-09-24T09:23:43.762075Z"
    },
    "papermill": {
     "duration": 1.449498,
     "end_time": "2024-09-24T09:23:43.765573",
     "exception": false,
     "start_time": "2024-09-24T09:23:42.316075",
     "status": "completed"
    },
    "tags": []
   },
   "outputs": [
    {
     "data": {
      "image/png": "[encoded data removed]",
      "text/plain": [
       "<Figure size 800x400 with 1 Axes>"
      ]
     },
     "metadata": {},
     "output_type": "display_data"
    },
    {
     "name": "stdout",
     "output_type": "stream",
     "text": [
      "+------------------------------+---------+--------+-------+-------+-------+-------+-------+--------+\n",
      "|                              |   count |   mean |   std |   min |   25% |   50% |   75% |    max |\n",
      "+==============================+=========+========+=======+=======+=======+=======+=======+========+\n",
      "| Cost per Mille (CPM)_control |   30.00 |  21.55 |  4.76 | 12.91 | 17.88 | 20.88 | 25.39 |  32.55 |\n",
      "+------------------------------+---------+--------+-------+-------+-------+-------+-------+--------+\n",
      "| Cost per Mille (CPM)_test    |   30.00 |  42.68 | 23.75 | 16.45 | 26.28 | 34.10 | 55.67 | 116.60 |\n",
      "+------------------------------+---------+--------+-------+-------+-------+-------+-------+--------+\n",
      "\n",
      "_______________________________________________________________________________________________\n",
      "\n"
     ]
    },
    {
     "data": {
      "image/png": "[encoded data removed]",
      "text/plain": [
       "<Figure size 800x400 with 1 Axes>"
      ]
     },
     "metadata": {},
     "output_type": "display_data"
    },
    {
     "name": "stdout",
     "output_type": "stream",
     "text": [
      "+----------------------------------+---------+--------+-------+-------+-------+-------+-------+-------+\n",
      "|                                  |   count |   mean |   std |   min |   25% |   50% |   75% |   max |\n",
      "+==================================+=========+========+=======+=======+=======+=======+=======+=======+\n",
      "| Click-Through Rate (CTR)_control |   30.00 |   5.05 |  2.03 |  1.86 |  3.64 |  4.58 |  6.70 |  8.83 |\n",
      "+----------------------------------+---------+--------+-------+-------+-------+-------+-------+-------+\n",
      "| Click-Through Rate (CTR)_test    |   30.00 |  10.24 |  6.77 |  2.98 |  5.31 |  8.04 | 12.85 | 33.82 |\n",
      "+----------------------------------+---------+--------+-------+-------+-------+-------+-------+-------+\n",
      "\n",
      "_______________________________________________________________________________________________\n",
      "\n"
     ]
    },
    {
     "data": {
      "image/png": "[encoded data removed]",
      "text/plain": [
       "<Figure size 800x400 with 1 Axes>"
      ]
     },
     "metadata": {},
     "output_type": "display_data"
    },
    {
     "name": "stdout",
     "output_type": "stream",
     "text": [
      "+-----------------------------+---------+--------+-------+-------+-------+-------+-------+-------+\n",
      "|                             |   count |   mean |   std |   min |   25% |   50% |   75% |   max |\n",
      "+=============================+=========+========+=======+=======+=======+=======+=======+=======+\n",
      "| Reach-to-Click Rate_control |   30.00 |   6.39 |  2.86 |  2.06 |  4.56 |  5.46 |  7.93 | 12.32 |\n",
      "+-----------------------------+---------+--------+-------+-------+-------+-------+-------+-------+\n",
      "| Reach-to-Click Rate_test    |   30.00 |  17.41 | 17.30 |  3.39 |  6.66 | 14.91 | 18.65 | 77.98 |\n",
      "+-----------------------------+---------+--------+-------+-------+-------+-------+-------+-------+\n",
      "\n",
      "_______________________________________________________________________________________________\n",
      "\n"
     ]
    },
    {
     "data": {
      "image/png": "[encoded data removed]",
      "text/plain": [
       "<Figure size 800x400 with 1 Axes>"
      ]
     },
     "metadata": {},
     "output_type": "display_data"
    },
    {
     "name": "stdout",
     "output_type": "stream",
     "text": [
      "+--------------------------------------------+---------+--------+-------+-------+-------+-------+-------+--------+\n",
      "|                                            |   count |   mean |   std |   min |   25% |   50% |   75% |    max |\n",
      "+============================================+=========+========+=======+=======+=======+=======+=======+========+\n",
      "| Content Viewed-to-Add-to-Cart Rate_control |   30.00 |  77.28 | 40.52 | 27.41 | 45.83 | 73.98 | 97.51 | 201.53 |\n",
      "+--------------------------------------------+---------+--------+-------+-------+-------+-------+-------+--------+\n",
      "| Content Viewed-to-Add-to-Cart Rate_test    |   30.00 |  51.51 | 24.50 | 13.47 | 32.61 | 50.85 | 67.71 | 111.42 |\n",
      "+--------------------------------------------+---------+--------+-------+-------+-------+-------+-------+--------+\n",
      "\n",
      "_______________________________________________________________________________________________\n",
      "\n"
     ]
    },
    {
     "data": {
      "image/png": "[encoded data removed]",
      "text/plain": [
       "<Figure size 800x400 with 1 Axes>"
      ]
     },
     "metadata": {},
     "output_type": "display_data"
    },
    {
     "name": "stdout",
     "output_type": "stream",
     "text": [
      "+-------------------------------+---------+--------+-------+--------+-------+-------+-------+-------+\n",
      "|                               |   count |   mean |   std |    min |   25% |   50% |   75% |   max |\n",
      "+===============================+=========+========+=======+========+=======+=======+=======+=======+\n",
      "| Cart Abandonment Rate_control |   30.00 |  52.56 | 28.72 | -51.58 | 44.92 | 57.25 | 72.45 | 85.66 |\n",
      "+-------------------------------+---------+--------+-------+--------+-------+-------+-------+-------+\n",
      "| Cart Abandonment Rate_test    |   30.00 |  38.21 | 15.15 |  11.87 | 26.00 | 37.86 | 46.41 | 71.48 |\n",
      "+-------------------------------+---------+--------+-------+--------+-------+-------+-------+-------+\n",
      "\n",
      "_______________________________________________________________________________________________\n",
      "\n"
     ]
    },
    {
     "data": {
      "image/png": "[encoded data removed]",
      "text/plain": [
       "<Figure size 800x400 with 1 Axes>"
      ]
     },
     "metadata": {},
     "output_type": "display_data"
    },
    {
     "name": "stdout",
     "output_type": "stream",
     "text": [
      "+--------------------------------------------------+---------+--------+-------+-------+-------+-------+-------+-------+\n",
      "|                                                  |   count |   mean |   std |   min |   25% |   50% |   75% |   max |\n",
      "+==================================================+=========+========+=======+=======+=======+=======+=======+=======+\n",
      "| Purchase Rate (Impressions to Purchases)_control |   30.00 |   0.51 |  0.22 |  0.19 |  0.35 |  0.48 |  0.62 |  1.07 |\n",
      "+--------------------------------------------------+---------+--------+-------+-------+-------+-------+-------+-------+\n",
      "| Purchase Rate (Impressions to Purchases)_test    |   30.00 |   0.84 |  0.52 |  0.18 |  0.48 |  0.68 |  1.11 |  2.27 |\n",
      "+--------------------------------------------------+---------+--------+-------+-------+-------+-------+-------+-------+\n",
      "\n",
      "_______________________________________________________________________________________________\n",
      "\n"
     ]
    }
   ],
   "source": [
    "#\n",
    "#\n",
    "# Looping through each feature which showed significant differences and then plotting the box plots for each under control and test group for \n",
    "# visualizing their distribution\n",
    "#\n",
    "#\n",
    "\n",
    "for feature in results_df.loc[results_df['Difference exists']==True,'Features']:\n",
    "\n",
    "    df_melted = df[[feature+\"_control\",feature+\"_test\"]].melt(var_name='Group', value_name='Values')\n",
    "    \n",
    "    plt.figure(figsize=(8, 4))\n",
    "    sns.boxplot(x='Group', y='Values', data=df_melted)\n",
    "    \n",
    "    plt.title(f'Comparison of {feature} between control and test group')\n",
    "    plt.ylabel('Counts')\n",
    "    plt.xlabel('Groups')\n",
    "    plt.show()\n",
    "    summary = df[[feature+\"_control\",feature+\"_test\"]].describe().T\n",
    "    print(tabulate(summary, headers='keys', floatfmt=\".2f\", tablefmt=\"grid\"))\n",
    "    print()\n",
    "    print(\"_______________________________________________________________________________________________\")\n",
    "    print()\n"
   ]
  },
  {
   "cell_type": "markdown",
   "id": "2062f86f",
   "metadata": {
    "jp-MarkdownHeadingCollapsed": true,
    "papermill": {
     "duration": 0.01691,
     "end_time": "2024-09-24T09:23:43.801347",
     "exception": false,
     "start_time": "2024-09-24T09:23:43.784437",
     "status": "completed"
    },
    "tags": []
   },
   "source": [
    "## **Conclusion**"
   ]
  },
  {
   "cell_type": "markdown",
   "id": "0c89c5eb",
   "metadata": {
    "papermill": {
     "duration": 0.01714,
     "end_time": "2024-09-24T09:23:43.835730",
     "exception": false,
     "start_time": "2024-09-24T09:23:43.818590",
     "status": "completed"
    },
    "tags": []
   },
   "source": [
    "\n",
    "1. **Cost Effectiveness**  \n",
    "    The Cost per Mille which is cost incurred to get 1000 impression is more in Test campaign, but Cost per click has seen no much significant difference between Control and Test.**  \n",
    "    So we can say the test campaign is slightly costlier in terms of getting more impressions.\n",
    "\n",
    "2. **Campaign Effectiveness**  \n",
    "    **The click through rate** has significant improvement in test campaign so it is able to convert impressions into click more effectively than     before.  \n",
    "    Same goes for **Reach to click ratio**, where more unique users are visiting the site by clicking which is very good improvement in test campaign.  \n",
    "    Whereas **content-viewed-to-add-to-cart-ratio** has comparitively reduced, so the any changes in contents page may not be working out well here.  \n",
    "    **Cart-abandonment-rate** has comparitvely reduced which is very good improved. It says when customers are adding some products to the cart they  are more liekely making purchanses than before.    \n",
    "    **Purchase rate** also improved (from impression to purchase), so users which are looking at the add are more liekly to make a purchase in the test       campaign than before.\n",
    "   \n",
    "\n",
    "   \n",
    "   \n",
    "\n",
    "\n",
    "\n"
   ]
  },
  {
   "cell_type": "markdown",
   "id": "0d920d4e",
   "metadata": {
    "papermill": {
     "duration": 0.016748,
     "end_time": "2024-09-24T09:23:43.869519",
     "exception": false,
     "start_time": "2024-09-24T09:23:43.852771",
     "status": "completed"
    },
    "tags": []
   },
   "source": [
    "**So even though the cost in increased in test campaign it proved to be effective when looked at other metrics**"
   ]
  }
 ],
 "metadata": {
  "kaggle": {
   "accelerator": "none",
   "dataSources": [
    {
     "datasetId": 3714414,
     "sourceId": 6436332,
     "sourceType": "datasetVersion"
    }
   ],
   "dockerImageVersionId": 30775,
   "isGpuEnabled": false,
   "isInternetEnabled": true,
   "language": "python",
   "sourceType": "notebook"
  },
  "kernelspec": {
   "display_name": "Python 3",
   "language": "python",
   "name": "python3"
  },
  "language_info": {
   "codemirror_mode": {
    "name": "ipython",
    "version": 3
   },
   "file_extension": ".py",
   "mimetype": "text/x-python",
   "name": "python",
   "nbconvert_exporter": "python",
   "pygments_lexer": "ipython3",
   "version": "3.10.14"
  },
  "papermill": {
   "default_parameters": {},
   "duration": 9.561611,
   "end_time": "2024-09-24T09:23:44.506565",
   "environment_variables": {},
   "exception": null,
   "input_path": "__notebook__.ipynb",
   "output_path": "__notebook__.ipynb",
   "parameters": {},
   "start_time": "2024-09-24T09:23:34.944954",
   "version": "2.6.0"
  }
 },
 "nbformat": 4,
 "nbformat_minor": 5
}
